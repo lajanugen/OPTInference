{
 "cells": [
  {
   "cell_type": "code",
   "execution_count": 1,
   "id": "ef31ee8f-0474-4d7b-8ca2-71a3879c221d",
   "metadata": {},
   "outputs": [],
   "source": [
    "from utils import get_opt_model\n",
    "weights_path = '/home/llajan/OPT-175B-HF'\n",
    "model, device_map = get_opt_model(weights_path, fp16=True)"
   ]
  },
  {
   "cell_type": "code",
   "execution_count": 7,
   "id": "ba7cf3be-caad-4419-963f-cb3cbe547d50",
   "metadata": {},
   "outputs": [],
   "source": [
    "prompt = \"List down the key steps for making coffee.\""
   ]
  },
  {
   "cell_type": "code",
   "execution_count": null,
   "id": "108726fe-31b8-4cea-b88b-548c41dc45a9",
   "metadata": {},
   "outputs": [],
   "source": [
    "from transformers import AutoTokenizer\n",
    "\n",
    "# Inference\n",
    "tokenizer = AutoTokenizer.from_pretrained('facebook/opt-30b')\n",
    "inputs = tokenizer(prompt, return_tensors=\"pt\")\n",
    "\n",
    "output = model.generate(inputs[\"input_ids\"].to(0), max_length=100)\n",
    "\n",
    "print(tokenizer.decode(output[0].tolist()))"
   ]
  }
 ],
 "metadata": {
  "kernelspec": {
   "display_name": "Python 3 (ipykernel)",
   "language": "python",
   "name": "python3"
  },
  "language_info": {
   "codemirror_mode": {
    "name": "ipython",
    "version": 3
   },
   "file_extension": ".py",
   "mimetype": "text/x-python",
   "name": "python",
   "nbconvert_exporter": "python",
   "pygments_lexer": "ipython3",
   "version": "3.7.13"
  }
 },
 "nbformat": 4,
 "nbformat_minor": 5
}
